{
 "cells": [
  {
   "cell_type": "code",
   "execution_count": 1,
   "metadata": {},
   "outputs": [],
   "source": [
    "#!/usr/bin/env python\n",
    "# -*- coding:utf-8 -*-\n",
    "import json\n",
    "import pandas as pd\n",
    "import numpy as np"
   ]
  },
  {
   "cell_type": "code",
   "execution_count": 84,
   "metadata": {},
   "outputs": [],
   "source": [
    "train_file = open('./round1_train_0907.json', encoding='utf-8')\n",
    "test_file = open('./round1_test_0907.json', encoding='utf-8')\n",
    "\n",
    "train_data = json.load(train_file)\n",
    "test_data = json.load(test_file)"
   ]
  },
  {
   "cell_type": "code",
   "execution_count": 72,
   "metadata": {},
   "outputs": [
    {
     "data": {
      "text/plain": [
       "dict_keys(['id', 'text', 'annotations'])"
      ]
     },
     "execution_count": 72,
     "metadata": {},
     "output_type": "execute_result"
    }
   ],
   "source": [
    "test_data[0].keys()"
   ]
  },
  {
   "cell_type": "code",
   "execution_count": 73,
   "metadata": {},
   "outputs": [
    {
     "data": {
      "text/plain": [
       "{'id': 1050,\n",
       " 'text': '\"橄榄，又名青果、白榄，为橄榄科植物橄榄的果实，产广东、广西、福建等地。宋朝大文学家苏东坡称之为“青子”。早在唐宋之间，橄榄已广泛地被采入药用。现代研究证实，橄榄的果实中含有蛋白质、脂肪、碳水化合物以及钙.磷、铁等。祖国医学认为橄榄味甘酸，性平，能够清肺，利咽，生津：解毒，主治咽喉肿痛，烦渴，咳嗽咯血以及细菌性痢疾、癫痫等，还能解除河豚毒以及酒毒。用新鲜橄榄3枚，白萝卜数片，水煎服，可以用于治疗咽喉肿痛。用橄榄10枚，去核，水煎汤，频频服用，可以治疗饮酒中毒昏闷不适。若肠风下血，可用橄榄烧灰存性，每次6克，用米汤汁调服。将橄榄炒研为末，用猪油调和，外敷，可以治疗口唇干裂生疮。用鲜橄榄20枚，冰糖50克，水炖服，可以用于小儿百日咳的治疗。若妇女妊娠呕吐不止，可将鲜橄榄适量捣烂，用水煎服。\"',\n",
       " 'annotations': [{'Q': '', 'A': '橄榄的果实中含有蛋白质、脂肪、碳水化合物以及钙.磷、铁等。'},\n",
       "  {'Q': '', 'A': '清肺，利咽，生津：解毒'},\n",
       "  {'Q': '', 'A': '青子'},\n",
       "  {'Q': '', 'A': '主治咽喉肿痛，烦渴，咳嗽咯血以及细菌性痢疾、癫痫等，还能解除河豚毒以及酒毒。'}]}"
      ]
     },
     "execution_count": 73,
     "metadata": {},
     "output_type": "execute_result"
    }
   ],
   "source": [
    "test_data[0]"
   ]
  },
  {
   "cell_type": "code",
   "execution_count": 74,
   "metadata": {},
   "outputs": [
    {
     "data": {
      "text/plain": [
       "1399"
      ]
     },
     "execution_count": 74,
     "metadata": {},
     "output_type": "execute_result"
    }
   ],
   "source": [
    "len(test_data)"
   ]
  },
  {
   "cell_type": "code",
   "execution_count": 85,
   "metadata": {},
   "outputs": [],
   "source": [
    "all_data_list = []\n",
    "for i in range(len(train_data)):\n",
    "    for j in range(len(train_data[i]['annotations'])):\n",
    "        dict_cur = {}\n",
    "        dict_cur['id'] = train_data[i]['id']\n",
    "        dict_cur['text'] = train_data[i]['text']\n",
    "        dict_cur['question'] = train_data[i]['annotations'][j]['Q']\n",
    "        dict_cur['answer'] = train_data[i]['annotations'][j]['A']\n",
    "        all_data_list.append(dict_cur)"
   ]
  },
  {
   "cell_type": "code",
   "execution_count": 86,
   "metadata": {},
   "outputs": [],
   "source": [
    "id_list = []\n",
    "text_list = []\n",
    "question_list = []\n",
    "answer_list = []\n",
    "for i in range(len(all_data_list)):\n",
    "    id_list.append(all_data_list[i]['id'])\n",
    "    text_list.append(all_data_list[i]['text'])\n",
    "    question_list.append(all_data_list[i]['question'])\n",
    "    answer_list.append(all_data_list[i]['answer'])"
   ]
  },
  {
   "cell_type": "code",
   "execution_count": 88,
   "metadata": {},
   "outputs": [
    {
     "name": "stdout",
     "output_type": "stream",
     "text": [
      "(18478, 4)\n"
     ]
    }
   ],
   "source": [
    "train_df = pd.DataFrame(columns = [\"id\", \"text\", \"question\", \"answer\"])\n",
    "train_df['id'] = id_list\n",
    "train_df['text'] = text_list\n",
    "train_df['question'] = question_list\n",
    "train_df['answer'] = answer_list\n",
    "print(train_df.shape)\n",
    "train_df.to_csv('./train.csv', index=False)"
   ]
  },
  {
   "cell_type": "code",
   "execution_count": 89,
   "metadata": {},
   "outputs": [],
   "source": [
    "all_test_data_list = []\n",
    "for i in range(len(test_data)):\n",
    "    for j in range(len(test_data[i]['annotations'])):\n",
    "        dict_cur = {}\n",
    "        dict_cur['id'] = test_data[i]['id']\n",
    "        dict_cur['text'] = test_data[i]['text']\n",
    "        dict_cur['question'] = test_data[i]['annotations'][j]['Q']\n",
    "        dict_cur['answer'] = test_data[i]['annotations'][j]['A']\n",
    "        all_test_data_list.append(dict_cur)"
   ]
  },
  {
   "cell_type": "code",
   "execution_count": 90,
   "metadata": {},
   "outputs": [],
   "source": [
    "test_id_list = []\n",
    "test_text_list = []\n",
    "test_question_list = []\n",
    "test_answer_list = []\n",
    "for i in range(len(all_test_data_list)):\n",
    "    test_id_list.append(all_test_data_list[i]['id'])\n",
    "    test_text_list.append(all_test_data_list[i]['text'])\n",
    "    test_question_list.append(all_test_data_list[i]['question'])\n",
    "    test_answer_list.append(all_test_data_list[i]['answer'])"
   ]
  },
  {
   "cell_type": "code",
   "execution_count": 91,
   "metadata": {},
   "outputs": [
    {
     "name": "stdout",
     "output_type": "stream",
     "text": [
      "(4373, 4)\n"
     ]
    }
   ],
   "source": [
    "test_df = pd.DataFrame(columns = [\"id\", \"text\", \"question\", \"answer\"])\n",
    "test_df['id'] = test_id_list\n",
    "test_df['text'] = test_text_list\n",
    "test_df['question'] = test_question_list\n",
    "test_df['answer'] = test_answer_list\n",
    "print(test_df.shape)\n",
    "test_df.to_csv('./test.csv', index=False)"
   ]
  },
  {
   "cell_type": "code",
   "execution_count": null,
   "metadata": {},
   "outputs": [],
   "source": []
  },
  {
   "cell_type": "code",
   "execution_count": 78,
   "metadata": {},
   "outputs": [],
   "source": [
    "def text_segmentate(text, maxlen, seps='\\n', strips=None):\n",
    "    \"\"\"将文本按照标点符号划分为若干个短句\n",
    "    \"\"\"\n",
    "    text = text.strip().strip(strips)\n",
    "    if seps and len(text) > maxlen:\n",
    "        pieces = text.split(seps[0])\n",
    "        text, texts = '', []\n",
    "        for i, p in enumerate(pieces):\n",
    "            if text and p and len(text) + len(p) > maxlen - 1:\n",
    "                texts.extend(text_segmentate(text, maxlen, seps[1:], strips))\n",
    "                text = ''\n",
    "            if i + 1 == len(pieces):\n",
    "                text = text + p\n",
    "            else:\n",
    "                text = text + p + seps[0]\n",
    "        if text:\n",
    "            texts.extend(text_segmentate(text, maxlen, seps[1:], strips))\n",
    "        return texts\n",
    "    else:\n",
    "        return [text]"
   ]
  },
  {
   "cell_type": "code",
   "execution_count": 79,
   "metadata": {},
   "outputs": [
    {
     "data": {
      "text/plain": [
       "18454"
      ]
     },
     "execution_count": 79,
     "metadata": {},
     "output_type": "execute_result"
    }
   ],
   "source": [
    "# 筛选数据\n",
    "max_p_len = 512\n",
    "\n",
    "seps, strips = u'\\n。！？!?；;，, ', u'；;，, '\n",
    "data = []\n",
    "                    \n",
    "for idx in range(train_df.shape[0]):\n",
    "    if train_df['answer'][idx]:\n",
    "        for t in text_segmentate(train_df['text'][idx], max_p_len-2, seps, strips):\n",
    "            if train_df['answer'][idx] in t:\n",
    "                data.append((t, train_df['question'][idx], train_df['answer'][idx]))\n",
    "\n",
    "len(data)"
   ]
  },
  {
   "cell_type": "code",
   "execution_count": 80,
   "metadata": {},
   "outputs": [
    {
     "data": {
      "text/plain": [
       "('\"胆石症的治疗应区别不同情况分别处理，无症状胆囊结石可不作治疗，但应定期观察并注意良好的饮食习惯。有症状的胆囊结石仍以胆囊切除术为较安全有效的疗法，此外，尚可采用体外震波碎石。胆管结石宜采用以手术为主的综合治疗。胆石症的家庭治疗可采用以下方法：\\\\n（1）一般治疗    预防和治疗肠道寄生虫病和肠道感染，以降低胆石症的发病率。胆绞痛发作期应禁食脂肪等食物，采用高碳水化合物流质饮食；缓解期应忌食富含胆固醇的食物如脑、肝、肾、蛋黄等。\\\\n（2）增进胆汁排泄    可选用50%硫酸镁10~15毫升，餐后口服，每日3次；胆盐每次口服0.5~1克，每日3次；去氢胆酸0.25克，每日3次，餐后服用。\\\\n（3）消除胆绞痛    轻者可卧床休息，右上腹热敷，用硝酸甘油酯0.6毫克，每3~4小时一次，含于舌下；或阿托品0.5毫克，每3~4小时肌肉注射一次。重者应住院治疗。\\\\n（4）排石疗法以中药治疗为主，若右上腹疼痛有间歇期，无明显发热及黄疸，苔薄白，脉弦，属气滞者，用生大黄6克、木香9克、枳壳9克、金钱草30克、川楝子9克、黄苓9克，水煎服。右上腹痛为持续性，且阵发性加剧，有明显发热及黄疸，舌红苔黄',\n",
       " '什么类型的胆囊结石可不作治疗？',\n",
       " '无症状胆囊结')"
      ]
     },
     "execution_count": 80,
     "metadata": {},
     "output_type": "execute_result"
    }
   ],
   "source": [
    "data[0]"
   ]
  },
  {
   "cell_type": "code",
   "execution_count": 82,
   "metadata": {},
   "outputs": [],
   "source": [
    "random_order = list(range(len(data)))\n",
    "# np.random.shuffle(random_order)\n",
    "# json.dump(random_order, open('../random_order.json', 'w'), indent=4)\n",
    "\n",
    "# 划分valid\n",
    "train_data_after = [data[j] for i, j in enumerate(random_order) if i % 10 != 0]\n",
    "valid_data_after = [data[j] for i, j in enumerate(random_order) if i % 10 == 0]"
   ]
  },
  {
   "cell_type": "code",
   "execution_count": 83,
   "metadata": {},
   "outputs": [
    {
     "data": {
      "text/plain": [
       "('\"胆石症的治疗应区别不同情况分别处理，无症状胆囊结石可不作治疗，但应定期观察并注意良好的饮食习惯。有症状的胆囊结石仍以胆囊切除术为较安全有效的疗法，此外，尚可采用体外震波碎石。胆管结石宜采用以手术为主的综合治疗。胆石症的家庭治疗可采用以下方法：\\\\n（1）一般治疗    预防和治疗肠道寄生虫病和肠道感染，以降低胆石症的发病率。胆绞痛发作期应禁食脂肪等食物，采用高碳水化合物流质饮食；缓解期应忌食富含胆固醇的食物如脑、肝、肾、蛋黄等。\\\\n（2）增进胆汁排泄    可选用50%硫酸镁10~15毫升，餐后口服，每日3次；胆盐每次口服0.5~1克，每日3次；去氢胆酸0.25克，每日3次，餐后服用。\\\\n（3）消除胆绞痛    轻者可卧床休息，右上腹热敷，用硝酸甘油酯0.6毫克，每3~4小时一次，含于舌下；或阿托品0.5毫克，每3~4小时肌肉注射一次。重者应住院治疗。\\\\n（4）排石疗法以中药治疗为主，若右上腹疼痛有间歇期，无明显发热及黄疸，苔薄白，脉弦，属气滞者，用生大黄6克、木香9克、枳壳9克、金钱草30克、川楝子9克、黄苓9克，水煎服。右上腹痛为持续性，且阵发性加剧，有明显发热及黄疸，舌红苔黄',\n",
       " '胆石症的治疗应注意什么？',\n",
       " '应区别不同情况分别处理')"
      ]
     },
     "execution_count": 83,
     "metadata": {},
     "output_type": "execute_result"
    }
   ],
   "source": [
    "train_data_after[0]"
   ]
  },
  {
   "cell_type": "code",
   "execution_count": 92,
   "metadata": {},
   "outputs": [
    {
     "name": "stdout",
     "output_type": "stream",
     "text": [
      "0 \"胆石症的治疗应区别不同情况分别处理，无症状胆囊结石可不作治疗，但应定期观察并注意良好的饮食习惯。有症状的胆囊结石仍以胆囊切除术为较安全有效的疗法，此外，尚可采用体外震波碎石。胆管结石宜采用以手术为主的综合治疗。胆石症的家庭治疗可采用以下方法：\\n（1）一般治疗    预防和治疗肠道寄生虫病和肠道感染，以降低胆石症的发病率。胆绞痛发作期应禁食脂肪等食物，采用高碳水化合物流质饮食；缓解期应忌食富含胆固醇的食物如脑、肝、肾、蛋黄等。\\n（2）增进胆汁排泄    可选用50%硫酸镁10~15毫升，餐后口服，每日3次；胆盐每次口服0.5~1克，每日3次；去氢胆酸0.25克，每日3次，餐后服用。\\n（3）消除胆绞痛    轻者可卧床休息，右上腹热敷，用硝酸甘油酯0.6毫克，每3~4小时一次，含于舌下；或阿托品0.5毫克，每3~4小时肌肉注射一次。重者应住院治疗。\\n（4）排石疗法以中药治疗为主，若右上腹疼痛有间歇期，无明显发热及黄疸，苔薄白，脉弦，属气滞者，用生大黄6克、木香9克、枳壳9克、金钱草30克、川楝子9克、黄苓9克，水煎服。右上腹痛为持续性，且阵发性加剧，有明显发热及黄疸，舌红苔黄 胆石症的治疗应注意什么？ 应区别不同情况分别处理\n"
     ]
    }
   ],
   "source": [
    "for idx, (p,q,a) in enumerate(train_data_after):\n",
    "    print(idx, p, q ,a)\n",
    "    break"
   ]
  },
  {
   "cell_type": "code",
   "execution_count": null,
   "metadata": {},
   "outputs": [],
   "source": []
  }
 ],
 "metadata": {
  "kernelspec": {
   "display_name": "Python 3",
   "language": "python",
   "name": "python3"
  },
  "language_info": {
   "codemirror_mode": {
    "name": "ipython",
    "version": 3
   },
   "file_extension": ".py",
   "mimetype": "text/x-python",
   "name": "python",
   "nbconvert_exporter": "python",
   "pygments_lexer": "ipython3",
   "version": "3.6.12"
  }
 },
 "nbformat": 4,
 "nbformat_minor": 4
}
