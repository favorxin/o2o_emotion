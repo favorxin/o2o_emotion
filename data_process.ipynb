{
 "cells": [
  {
   "cell_type": "code",
   "execution_count": 73,
   "metadata": {},
   "outputs": [],
   "source": [
    "#!/usr/bin/env python\n",
    "# -*- coding:utf-8 -*-\n",
    "import json\n",
    "import pandas as pd\n",
    "import numpy as np"
   ]
  },
  {
   "cell_type": "code",
   "execution_count": 74,
   "metadata": {},
   "outputs": [],
   "source": [
    "train_file = open('./round1_train_0907.json', encoding='utf-8')\n",
    "test_file = open('./round1_test_0907.json', encoding='utf-8')\n",
    "\n",
    "train_data = json.load(train_file)\n",
    "test_data = json.load(test_file)"
   ]
  },
  {
   "cell_type": "code",
   "execution_count": 75,
   "metadata": {},
   "outputs": [
    {
     "data": {
      "text/plain": [
       "dict_keys(['id', 'text', 'annotations'])"
      ]
     },
     "execution_count": 75,
     "metadata": {},
     "output_type": "execute_result"
    }
   ],
   "source": [
    "train_data[0].keys()"
   ]
  },
  {
   "cell_type": "code",
   "execution_count": 76,
   "metadata": {},
   "outputs": [
    {
     "name": "stdout",
     "output_type": "stream",
     "text": [
      "id: 1240\n",
      "text: \"胆石症的治疗应区别不同情况分别处理，无症状胆囊结石可不作治疗，但应定期观察并注意良好的饮食习惯。有症状的胆囊结石仍以胆囊切除术为较安全有效的疗法，此外，尚可采用体外震波碎石。胆管结石宜采用以手术为主的综合治疗。胆石症的家庭治疗可采用以下方法：\\n（1）一般治疗    预防和治疗肠道寄生虫病和肠道感染，以降低胆石症的发病率。胆绞痛发作期应禁食脂肪等食物，采用高碳水化合物流质饮食；缓解期应忌食富含胆固醇的食物如脑、肝、肾、蛋黄等。\\n（2）增进胆汁排泄    可选用50%硫酸镁10~15毫升，餐后口服，每日3次；胆盐每次口服0.5~1克，每日3次；去氢胆酸0.25克，每日3次，餐后服用。\\n（3）消除胆绞痛    轻者可卧床休息，右上腹热敷，用硝酸甘油酯0.6毫克，每3~4小时一次，含于舌下；或阿托品0.5毫克，每3~4小时肌肉注射一次。重者应住院治疗。\\n（4）排石疗法以中药治疗为主，若右上腹疼痛有间歇期，无明显发热及黄疸，苔薄白，脉弦，属气滞者，用生大黄6克、木香9克、枳壳9克、金钱草30克、川楝子9克、黄苓9克，水煎服。右上腹痛为持续性，且阵发性加剧，有明显发热及黄疸，舌红苔黄，\n",
      "annotations: [{'Q': '什么类型的胆囊结石可不作治疗？', 'A': '无症状胆囊结'}, {'Q': '胆石症的治疗应注意什么？', 'A': '应区别不同情况分别处理'}, {'Q': '胆管结石宜采用什么样的治疗方式？', 'A': '以手术为主的综合治疗'}]\n",
      "id: 828\n",
      "text: 反佐配伍的典范，始见于张仲景《伤寒杂病论》，其中记载“干呕、吐涎沫、头痛者吴茱萸汤主之”。患者病机为肝寒犯胃，浊气上逆所致头痛。胃阳不布产生涎沫随浊气上逆而吐出，肝脉与督脉交会于巅顶，肝经寒邪，循经上冲则头痛，以吴茱萸汤主治。可在吴茱萸汤中加入少许黄连反佐，用以防止方中吴茱萸、人参、干姜等品辛热太过，从而达到温降肝胃、泄浊通阳而止头痛的功效。后代医者多在清热剂和温里剂中运用此法。\n",
      "annotations: [{'Q': '“干呕、吐涎沫、头痛者吴茱萸汤主之”这句话曾出现在哪本医学巨著中？', 'A': '《伤寒杂病论》'}, {'Q': '《伤寒杂病论》的作者是谁？', 'A': '张仲景'}, {'Q': '关于反佐配伍，在吴茱萸汤中加入少许黄连反佐，能起到什么作用？', 'A': '用以防止方中吴茱萸、人参、干姜等品辛热太过，从而达到温降肝胃、泄浊通阳而止头痛的功效。'}]\n"
     ]
    }
   ],
   "source": [
    "print(\"id: {}\".format(train_data[0]['id']))\n",
    "print('text: {}'.format(train_data[0]['text']))\n",
    "print('annotations: {}'.format(train_data[0]['annotations']))\n",
    "print(\"id: {}\".format(train_data[1]['id']))\n",
    "print('text: {}'.format(train_data[1]['text']))\n",
    "print('annotations: {}'.format(train_data[1]['annotations']))"
   ]
  },
  {
   "cell_type": "code",
   "execution_count": 77,
   "metadata": {},
   "outputs": [
    {
     "name": "stdout",
     "output_type": "stream",
     "text": [
      "什么类型的胆囊结石可不作治疗？\n"
     ]
    }
   ],
   "source": [
    "print(train_data[0]['annotations'][0]['Q'])"
   ]
  },
  {
   "cell_type": "code",
   "execution_count": 78,
   "metadata": {},
   "outputs": [
    {
     "name": "stdout",
     "output_type": "stream",
     "text": [
      "8\n",
      "10\n",
      "446 961 1817 2637 15 3\n"
     ]
    }
   ],
   "source": [
    "one_q = 0\n",
    "two_q = 0\n",
    "three_q = 0\n",
    "four_q = 0\n",
    "five_q = 0\n",
    "six_q = 0\n",
    "seven_q = 0\n",
    "for i in range(len(train_data)):\n",
    "    if len(train_data[i]['annotations']) == 1:\n",
    "        one_q += 1\n",
    "    elif len(train_data[i]['annotations']) == 2:\n",
    "        two_q += 1\n",
    "    elif len(train_data[i]['annotations']) == 3:\n",
    "        three_q += 1\n",
    "    elif len(train_data[i]['annotations']) == 4:\n",
    "        four_q += 1\n",
    "    elif len(train_data[i]['annotations']) == 5:\n",
    "        five_q += 1\n",
    "    elif len(train_data[i]['annotations']) == 6:\n",
    "        six_q += 1\n",
    "    else:\n",
    "        print(len(train_data[i]['annotations']))\n",
    "print(one_q, two_q, three_q, four_q, five_q, six_q)"
   ]
  },
  {
   "cell_type": "code",
   "execution_count": 79,
   "metadata": {},
   "outputs": [],
   "source": [
    "all_data_list = []\n",
    "for i in range(len(train_data)):\n",
    "    for j in range(len(train_data[i]['annotations'])):\n",
    "        dict_cur = {}\n",
    "        dict_cur['id'] = train_data[i]['id']\n",
    "        dict_cur['text'] = train_data[i]['text']\n",
    "        dict_cur['question'] = train_data[i]['annotations'][j]['Q']\n",
    "        dict_cur['answer'] = train_data[i]['annotations'][j]['A']\n",
    "        all_data_list.append(dict_cur)"
   ]
  },
  {
   "cell_type": "code",
   "execution_count": 80,
   "metadata": {},
   "outputs": [
    {
     "data": {
      "text/plain": [
       "'\"胆石症的治疗应区别不同情况分别处理，无症状胆囊结石可不作治疗，但应定期观察并注意良好的饮食习惯。有症状的胆囊结石仍以胆囊切除术为较安全有效的疗法，此外，尚可采用体外震波碎石。胆管结石宜采用以手术为主的综合治疗。胆石症的家庭治疗可采用以下方法：\\\\n（1）一般治疗    预防和治疗肠道寄生虫病和肠道感染，以降低胆石症的发病率。胆绞痛发作期应禁食脂肪等食物，采用高碳水化合物流质饮食；缓解期应忌食富含胆固醇的食物如脑、肝、肾、蛋黄等。\\\\n（2）增进胆汁排泄    可选用50%硫酸镁10~15毫升，餐后口服，每日3次；胆盐每次口服0.5~1克，每日3次；去氢胆酸0.25克，每日3次，餐后服用。\\\\n（3）消除胆绞痛    轻者可卧床休息，右上腹热敷，用硝酸甘油酯0.6毫克，每3~4小时一次，含于舌下；或阿托品0.5毫克，每3~4小时肌肉注射一次。重者应住院治疗。\\\\n（4）排石疗法以中药治疗为主，若右上腹疼痛有间歇期，无明显发热及黄疸，苔薄白，脉弦，属气滞者，用生大黄6克、木香9克、枳壳9克、金钱草30克、川楝子9克、黄苓9克，水煎服。右上腹痛为持续性，且阵发性加剧，有明显发热及黄疸，舌红苔黄，'"
      ]
     },
     "execution_count": 80,
     "metadata": {},
     "output_type": "execute_result"
    }
   ],
   "source": [
    "train_data[0]['text']"
   ]
  },
  {
   "cell_type": "code",
   "execution_count": 81,
   "metadata": {},
   "outputs": [],
   "source": [
    "id_list = []\n",
    "text_list = []\n",
    "question_list = []\n",
    "answer_list = []\n",
    "for i in range(len(all_data_list)):\n",
    "    id_list.append(all_data_list[i]['id'])\n",
    "    text_list.append(all_data_list[i]['text'])\n",
    "    question_list.append(all_data_list[i]['question'])\n",
    "    answer_list.append(all_data_list[i]['answer'])"
   ]
  },
  {
   "cell_type": "code",
   "execution_count": 82,
   "metadata": {},
   "outputs": [
    {
     "name": "stdout",
     "output_type": "stream",
     "text": [
      "(18478, 4)\n"
     ]
    }
   ],
   "source": [
    "train_data = pd.DataFrame(columns = [\"id\", \"text\", \"question\", \"answer\"])\n",
    "train_data['id'] = id_list\n",
    "train_data['text'] = text_list\n",
    "train_data['question'] = question_list\n",
    "train_data['answer'] = answer_list\n",
    "print(train_data.shape)"
   ]
  },
  {
   "cell_type": "code",
   "execution_count": 84,
   "metadata": {},
   "outputs": [
    {
     "name": "stdout",
     "output_type": "stream",
     "text": [
      "text max len: 511, text min len: 40, text mean len: 358.48473860807445\n",
      "question max len: 132, question min len: 5, question mean len: 14.396579716419525\n",
      "answer max len: 508, answer min len: 1, answer mean len: 47.65780928671934\n"
     ]
    }
   ],
   "source": [
    "text_len = train_data['text'].str.len()\n",
    "print('text max len: {}, text min len: {}, text mean len: {}'.format(max(text_len), min(text_len), np.mean(text_len.tolist())))\n",
    "question_len = train_data['question'].str.len()\n",
    "print('question max len: {}, question min len: {}, question mean len: {}'.format(max(question_len), min(question_len), np.mean(question_len.tolist())))\n",
    "answer_len = train_data['answer'].str.len()\n",
    "print('answer max len: {}, answer min len: {}, answer mean len: {}'.format(max(answer_len), min(answer_len), np.mean(answer_len.tolist())))"
   ]
  },
  {
   "cell_type": "code",
   "execution_count": 89,
   "metadata": {},
   "outputs": [
    {
     "name": "stdout",
     "output_type": "stream",
     "text": [
      "18478 12448\n",
      "18478 12889\n",
      "18478 14525\n"
     ]
    }
   ],
   "source": [
    "text_len_list = text_len.tolist()\n",
    "question_len_list = question_len.tolist()\n",
    "answer_len_list = answer_len.tolist()\n",
    "text_nor = [i for i in text_len_list if i < 432]\n",
    "ques_nor = [i for i in question_len_list if i < 16]\n",
    "answ_nor = [i for i in answer_len_list if i < 64]\n",
    "print(len(text_len_list), len(text_nor))\n",
    "print(len(question_len_list), len(ques_nor))\n",
    "print(len(answer_len_list), len(answ_nor))"
   ]
  },
  {
   "cell_type": "code",
   "execution_count": null,
   "metadata": {},
   "outputs": [],
   "source": []
  },
  {
   "cell_type": "code",
   "execution_count": null,
   "metadata": {},
   "outputs": [],
   "source": []
  },
  {
   "cell_type": "code",
   "execution_count": 51,
   "metadata": {},
   "outputs": [
    {
     "data": {
      "text/plain": [
       "172"
      ]
     },
     "execution_count": 51,
     "metadata": {},
     "output_type": "execute_result"
    }
   ],
   "source": [
    "answer_len_list = answer_len.tolist()\n",
    "answer_len_list.index(min(answer_len_list))"
   ]
  },
  {
   "cell_type": "code",
   "execution_count": 56,
   "metadata": {},
   "outputs": [
    {
     "name": "stdout",
     "output_type": "stream",
     "text": [
      "text:  黄帝说：脏象是怎样的呢？岐伯说：心，是生命的根本，为神所居之处，其荣华表现于面部，其充养的组织在血脉，为阳中的太阳，与夏气相通。肺是气的根本，为魄所居之处，其荣华表现在毫毛，其充养的组织在皮肤，是阳中的太阴，与秋气相通。肾主蛰伏，是封藏经气的根本，为精所居之处，其荣华表现在头发，其充养的组织在骨，为阴中之少阴，与冬气相通。肝，是罢极之本，为魄所居之处，其荣华表现在爪甲，其充养的组织在筋，可以生养血气，其味酸，其色苍青，为阳中之少阳，与春气相通。脾、胃、大肠、小肠、三焦、膀胱，是仓廪之本，为营气所居之处，因其功能象是盛贮食物的器皿，故称为器，它们能吸收水谷精微，化生为糟粕，管理饮食五味的转化、吸收和排泄，其荣华在口唇四旁的白肉，其充养的组织在肌肉，其味甘，其色黄，属于至阴之类，与土气相通。以上十一脏功能的发挥，都取决于胆气的升发。\n",
      "question:  被称为阴中之少阴的器官是什么？\n",
      "answer:  肾\n"
     ]
    }
   ],
   "source": [
    "print('text: ', train_data['text'][172])\n",
    "print('question: ', train_data['question'][172])\n",
    "print('answer: ', train_data['answer'][172])"
   ]
  },
  {
   "cell_type": "code",
   "execution_count": null,
   "metadata": {},
   "outputs": [],
   "source": []
  },
  {
   "cell_type": "code",
   "execution_count": 7,
   "metadata": {},
   "outputs": [],
   "source": [
    "def text_segmentate(text, maxlen, seps='\\n', strips=None):\n",
    "    \"\"\"将文本按照标点符号划分为若干个短句\n",
    "    \"\"\"\n",
    "    text = text.strip().strip(strips)\n",
    "    if seps and len(text) > maxlen:\n",
    "        pieces = text.split(seps[0])\n",
    "        text, texts = '', []\n",
    "        for i, p in enumerate(pieces):\n",
    "            if text and p and len(text) + len(p) > maxlen - 1:\n",
    "                texts.extend(text_segmentate(text, maxlen, seps[1:], strips))\n",
    "                text = ''\n",
    "            if i + 1 == len(pieces):\n",
    "                text = text + p\n",
    "            else:\n",
    "                text = text + p + seps[0]\n",
    "        if text:\n",
    "            texts.extend(text_segmentate(text, maxlen, seps[1:], strips))\n",
    "        return texts\n",
    "    else:\n",
    "        return [text]"
   ]
  },
  {
   "cell_type": "code",
   "execution_count": 61,
   "metadata": {},
   "outputs": [
    {
     "data": {
      "text/plain": [
       "18454"
      ]
     },
     "execution_count": 61,
     "metadata": {},
     "output_type": "execute_result"
    }
   ],
   "source": [
    "# 筛选数据\n",
    "max_p_len = 512\n",
    "\n",
    "seps, strips = u'\\n。！？!?；;，, ', u'；;，, '\n",
    "data = []\n",
    "                    \n",
    "for idx in range(train_data.shape[0]):\n",
    "    if train_data['answer'][idx]:\n",
    "        for t in text_segmentate(train_data['text'][idx], max_p_len-2, seps, strips):\n",
    "            if train_data['answer'][idx] in t:\n",
    "                data.append((t, train_data['question'][idx], train_data['answer'][idx]))\n",
    "\n",
    "len(data)"
   ]
  },
  {
   "cell_type": "code",
   "execution_count": 63,
   "metadata": {},
   "outputs": [
    {
     "data": {
      "text/plain": [
       "'\"胆石症的治疗应区别不同情况分别处理，无症状胆囊结石可不作治疗，但应定期观察并注意良好的饮食习惯。有症状的胆囊结石仍以胆囊切除术为较安全有效的疗法，此外，尚可采用体外震波碎石。胆管结石宜采用以手术为主的综合治疗。胆石症的家庭治疗可采用以下方法：\\\\n（1）一般治疗    预防和治疗肠道寄生虫病和肠道感染，以降低胆石症的发病率。胆绞痛发作期应禁食脂肪等食物，采用高碳水化合物流质饮食；缓解期应忌食富含胆固醇的食物如脑、肝、肾、蛋黄等。\\\\n（2）增进胆汁排泄    可选用50%硫酸镁10~15毫升，餐后口服，每日3次；胆盐每次口服0.5~1克，每日3次；去氢胆酸0.25克，每日3次，餐后服用。\\\\n（3）消除胆绞痛    轻者可卧床休息，右上腹热敷，用硝酸甘油酯0.6毫克，每3~4小时一次，含于舌下；或阿托品0.5毫克，每3~4小时肌肉注射一次。重者应住院治疗。\\\\n（4）排石疗法以中药治疗为主，若右上腹疼痛有间歇期，无明显发热及黄疸，苔薄白，脉弦，属气滞者，用生大黄6克、木香9克、枳壳9克、金钱草30克、川楝子9克、黄苓9克，水煎服。右上腹痛为持续性，且阵发性加剧，有明显发热及黄疸，舌红苔黄'"
      ]
     },
     "execution_count": 63,
     "metadata": {},
     "output_type": "execute_result"
    }
   ],
   "source": [
    "data[0][0]"
   ]
  },
  {
   "cell_type": "code",
   "execution_count": 64,
   "metadata": {},
   "outputs": [
    {
     "data": {
      "text/plain": [
       "'什么类型的胆囊结石可不作治疗？'"
      ]
     },
     "execution_count": 64,
     "metadata": {},
     "output_type": "execute_result"
    }
   ],
   "source": [
    "data[0][1]"
   ]
  },
  {
   "cell_type": "code",
   "execution_count": 65,
   "metadata": {},
   "outputs": [
    {
     "data": {
      "text/plain": [
       "'无症状胆囊结'"
      ]
     },
     "execution_count": 65,
     "metadata": {},
     "output_type": "execute_result"
    }
   ],
   "source": [
    "data[0][2]"
   ]
  },
  {
   "cell_type": "code",
   "execution_count": 69,
   "metadata": {},
   "outputs": [],
   "source": [
    "random_order = list(range(len(data)))\n",
    "np.random.shuffle(random_order)\n",
    "json.dump(random_order, open('../random_order.json', 'w'), indent=4)"
   ]
  },
  {
   "cell_type": "code",
   "execution_count": 70,
   "metadata": {},
   "outputs": [],
   "source": [
    "# 划分valid\n",
    "train_data = [data[j] for i, j in enumerate(random_order) if i % 10 != 0]\n",
    "valid_data = [data[j] for i, j in enumerate(random_order) if i % 10 == 0]"
   ]
  },
  {
   "cell_type": "code",
   "execution_count": null,
   "metadata": {},
   "outputs": [],
   "source": []
  }
 ],
 "metadata": {
  "kernelspec": {
   "display_name": "Python 3",
   "language": "python",
   "name": "python3"
  },
  "language_info": {
   "codemirror_mode": {
    "name": "ipython",
    "version": 3
   },
   "file_extension": ".py",
   "mimetype": "text/x-python",
   "name": "python",
   "nbconvert_exporter": "python",
   "pygments_lexer": "ipython3",
   "version": "3.6.10"
  }
 },
 "nbformat": 4,
 "nbformat_minor": 2
}
