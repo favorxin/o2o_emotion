{
 "cells": [
  {
   "cell_type": "code",
   "execution_count": 1,
   "metadata": {},
   "outputs": [],
   "source": [
    "import pandas as pd\n",
    "import os\n",
    "import json"
   ]
  },
  {
   "cell_type": "markdown",
   "metadata": {},
   "source": [
    "## 读取数据"
   ]
  },
  {
   "cell_type": "code",
   "execution_count": 6,
   "metadata": {},
   "outputs": [
    {
     "name": "stdout",
     "output_type": "stream",
     "text": [
      "<class 'str'>\n"
     ]
    }
   ],
   "source": [
    "f = open('./round1_train/train/0.txt', 'r', encoding='utf-8')\n",
    "txt_0 = f.read()\n",
    "print(type(txt_0))\n",
    "f.close()"
   ]
  },
  {
   "cell_type": "markdown",
   "metadata": {},
   "source": [
    "## 解析单条数据"
   ]
  },
  {
   "cell_type": "code",
   "execution_count": 30,
   "metadata": {},
   "outputs": [
    {
     "name": "stdout",
     "output_type": "stream",
     "text": [
      "<class 'str'>\n"
     ]
    },
    {
     "data": {
      "text/plain": [
       "['T1\\tDRUG_DOSAGE 447 450\\t小蜜丸',\n",
       " 'T2\\tDRUG_TASTE 451 453\\t味甜',\n",
       " 'T3\\tDRUG_TASTE 454 456\\t微苦',\n",
       " 'T4\\tDRUG_EFFICACY 1 5\\t补气养血',\n",
       " 'T5\\tSYMPTOM 13 17\\t月经不调',\n",
       " 'T6\\tSYMPTOM 18 22\\t经期腹痛',\n",
       " 'T7\\tPERSON_GROUP 433 435\\t孕妇',\n",
       " 'T8\\tDRUG_INGREDIENT 100 102\\t人参',\n",
       " 'T9\\tDRUG_INGREDIENT 103 105\\t白芍',\n",
       " 'T10\\tDRUG_INGREDIENT 106 109\\t反藜芦',\n",
       " 'T11\\tDRUG_INGREDIENT 112 115\\t含藜芦',\n",
       " 'T12\\tDRUG_INGREDIENT 127 129\\t甘草',\n",
       " 'T13\\tDRUG_INGREDIENT 130 133\\t反甘遂',\n",
       " 'T14\\tDRUG_INGREDIENT 137 139\\t海藻',\n",
       " 'T15\\tDRUG_INGREDIENT 140 142\\t芫花',\n",
       " 'T16\\tDRUG_INGREDIENT 146 148\\t甘遂',\n",
       " 'T17\\tDRUG_INGREDIENT 149 151\\t大戟',\n",
       " 'T18\\tDRUG_INGREDIENT 152 154\\t海藻',\n",
       " 'T19\\tDRUG_INGREDIENT 155 157\\t芫花',\n",
       " 'T20\\tFOOD_GROUP 170 172\\t生冷',\n",
       " 'T21\\tFOOD_GROUP 173 175\\t辛辣',\n",
       " 'T22\\tFOOD_GROUP 176 178\\t荤腥',\n",
       " 'T23\\tFOOD_GROUP 181 185\\t不易消化',\n",
       " 'T24\\tFOOD 216 218\\t萝卜',\n",
       " 'T25\\tDRUG 248 253\\t乌鸡白凤丸',\n",
       " 'T26\\tDRUG_INGREDIENT 253 256\\t五灵脂',\n",
       " 'T27\\tDRUG_INGREDIENT 257 259\\t皂荚',\n",
       " 'T28\\tDRUG_EFFICACY 481 483\\t造血',\n",
       " 'T29\\tDRUG_EFFICACY 484 486\\t止血',\n",
       " 'T30\\tDRUG_EFFICACY 594 596\\t保肝',\n",
       " 'T31\\tDRUG_EFFICACY 666 670\\t增强免疫',\n",
       " 'T32\\tDRUG_INGREDIENT 862 864\\t藜芦',\n",
       " 'T33\\tDRUG_INGREDIENT 865 868\\t五灵脂',\n",
       " 'T34\\tDRUG_INGREDIENT 869 871\\t皂荚',\n",
       " 'T35\\tFOOD 871 873\\t萝卜',\n",
       " 'T36\\tSYMPTOM 956 960\\t月经量少',\n",
       " 'T37\\tSYMPTOM 962 966\\t月经错后',\n",
       " 'T38\\tSYMPTOM 968 975\\t阴道不规则出血',\n",
       " 'T39\\tPERSON_GROUP 1043 1048\\t过敏体质者',\n",
       " 'T40\\tDRUG_EFFICACY 326 330\\t补气养血',\n",
       " 'T41\\tSYMPTOM 338 342\\t心慌气短',\n",
       " 'T42\\tSYMPTOM 343 347\\t疲乏无力',\n",
       " 'T43\\tSYMPTOM 348 352\\t月经不调',\n",
       " 'T44\\tSYMPTOM 353 357\\t腰腿酸软',\n",
       " 'T45\\tSYMPTOM 358 362\\t白带量多',\n",
       " 'T46\\tPERSON_GROUP 362 364\\t儿童',\n",
       " 'T47\\tFOOD_GROUP 364 366\\t寒凉',\n",
       " 'T48\\tFOOD_GROUP 367 369\\t生冷',\n",
       " 'T49\\tDISEASE 413 415\\t感冒']"
      ]
     },
     "execution_count": 30,
     "metadata": {},
     "output_type": "execute_result"
    }
   ],
   "source": [
    "f = open('./round1_train/train/0.ann', 'r', encoding='utf-8')\n",
    "ann_0 = f.read()\n",
    "print(type(ann_0))\n",
    "f.close()\n",
    "ann_1 = ann_0.split('\\n')\n",
    "ann_1\n"
   ]
  },
  {
   "cell_type": "code",
   "execution_count": 5,
   "metadata": {},
   "outputs": [
    {
     "data": {
      "text/plain": [
       "['',\n",
       " '补气养血、调经止带，用于月经不调、经期腹痛',\n",
       " '',\n",
       " '非处方药物（甲类）,国家基本药物目录（2012）',\n",
       " '',\n",
       " '如果服用任何其他药品请告知医师或药师，包括任何从药房、超市或保健品商店购买的非处方药品。',\n",
       " '本药内所含人参、白芍，反藜芦，忌与含藜芦的药物同用。',\n",
       " '本药内所含甘草，反甘遂、大戟、海藻、芫花，忌与含甘遂、大戟、海藻、芫花的药物同用。服药期间避免与生冷、辛辣、荤腥油腻、不易消化食品同用，戒烟酒，以防助湿化热，加重病情。服药期间不宜喝茶和吃萝卜，不宜同时服用五灵脂、皂荚或其制剂。医师和药师可能对服用同仁乌鸡白凤丸五灵脂、皂荚或其制剂。医师和药师可能对服用同仁乌鸡白凤丸（口服液）应注意事项具有更多的信息。',\n",
       " '',\n",
       " '复合膜，9克/袋X10袋/盒',\n",
       " '',\n",
       " '丸剂(小蜜丸)',\n",
       " '',\n",
       " '补气养血，调经止带。用于心慌气短，疲乏无力，月经不调，腰腿酸软，白带量多儿童寒凉、生冷食物。',\n",
       " '2、服药期间不宜喝茶和吃萝卜，不宜同时服用藜芦、五灵脂、皂荚或其制剂。',\n",
       " '\\u3000\\u30003、感冒时不宜服用本药。',\n",
       " '\\u3000\\u30004、月经过多',\n",
       " '孕妇忌服。',\n",
       " '',\n",
       " '黑褐色至黑色的小蜜丸；味甜，微苦。',\n",
       " '',\n",
       " '北京御生堂集团石家庄制药有限公司',\n",
       " '',\n",
       " '具有促进造血和止血作用。本品能促进环磷酰胺所致白细胞总数下降的恢复，提高失血小鼠的血红蛋白含量，缩短小鼠出血时间和血浆复钙时间。',\n",
       " '具有雌激素样作用。本品可增加雌鼠子宫重量，增高大鼠子宫指数和雌二醇含量，动物出现动情期的比率增多。',\n",
       " '具有保肝作用。本品可拮抗D-氨基半乳糖所致的急性肝损伤大鼠谷丙转氨酶和谷草转氨酶值的升高；增加四氯化碳所致慢性肝损害大鼠的总蛋白和白蛋白含量。',\n",
       " '具有增强免疫作用。本品能提高正常小鼠对血中碳粒的清除速度和抗体形成细胞的量，促进B细胞受抗原刺激后的分裂增殖，增加幼鼠胸腺指数；增强小鼠腹腔巨噬细胞吞噬鸡红细胞的能力。',\n",
       " '具有抗炎作用。本品能抑制巴豆油所致小鼠耳廓肿胀，抑制角叉菜胶所致的大鼠足肿胀及大鼠棉球肉芽肿的形成，也能抑制羧甲基纤维素所致腹腔渗出液中白细胞总数的增多。',\n",
       " '',\n",
       " '1、忌食寒凉、生冷食物。',\n",
       " '2、服药期间不宜喝茶和吃萝卜，不宜同时服用藜芦、五灵脂、皂荚萝卜，不宜同时服用藜芦、五灵脂、皂荚或其制剂。',\n",
       " '\\u3000\\u30003、感冒时不宜服用本药。',\n",
       " '\\u3000\\u30004、月经过多者不宜服用本药，带下量多气臭者应去医院就诊。',\n",
       " '\\u3000\\u30005、平素月经正常，突然出现月经量少，或月经错后，或阴道不规则出血应去医院就诊。',\n",
       " '\\u3000\\u30006、按照用法用量服用，长期服用应向医师咨询。',\n",
       " '\\u3000\\u30007、服药二周症状无改善，应去医院就诊。',\n",
       " '\\u3000\\u30008、对该品过敏者禁用，过敏体质者慎用。',\n",
       " '\\u3000\\u30009、该品性状发生改变时禁止使用。',\n",
       " '\\u3000\\u300010、请将该品放在儿童不能接触的地方。',\n",
       " '',\n",
       " '口服，一次9克，一日2次。',\n",
       " '',\n",
       " '尚不明确。',\n",
       " '',\n",
       " '9g*10袋',\n",
       " '']"
      ]
     },
     "execution_count": 5,
     "metadata": {},
     "output_type": "execute_result"
    }
   ],
   "source": [
    "txt_1 = txt_0.split(' ')\n",
    "txt_1"
   ]
  },
  {
   "cell_type": "code",
   "execution_count": 20,
   "metadata": {},
   "outputs": [
    {
     "name": "stdout",
     "output_type": "stream",
     "text": [
      "补气养血、调经止带，用于月经不调、经期腹痛非处方药物（甲类）,国家基本药物目录（2012）如果服用任何其他药品请告知医师或药师，包括任何从药房、超市或保健品商店购买的非处方药品。本药内所含人参、白芍，反藜芦，忌与含藜芦的药物同用。本药内所含甘草，反甘遂、大戟、海藻、芫花，忌与含甘遂、大戟、海藻、芫花的药物同用。服药期间避免与生冷、辛辣、荤腥油腻、不易消化食品同用，戒烟酒，以防助湿化热，加重病情。服药期间不宜喝茶和吃萝卜，不宜同时服用五灵脂、皂荚或其制剂。医师和药师可能对服用同仁乌鸡白凤丸五灵脂、皂荚或其制剂。医师和药师可能对服用同仁乌鸡白凤丸（口服液）应注意事项具有更多的信息。复合膜，9克/袋X10袋/盒丸剂(小蜜丸)补气养血，调经止带。用于心慌气短，疲乏无力，月经不调，腰腿酸软，白带量多儿童寒凉、生冷食物。2、服药期间不宜喝茶和吃萝卜，不宜同时服用藜芦、五灵脂、皂荚或其制剂。　　3、感冒时不宜服用本药。　　4、月经过多孕妇忌服。黑褐色至黑色的小蜜丸；味甜，微苦。北京御生堂集团石家庄制药有限公司具有促进造血和止血作用。本品能促进环磷酰胺所致白细胞总数下降的恢复，提高失血小鼠的血红蛋白含量，缩短小鼠出血时间和血浆复钙时间。具有雌激素样作用。本品可增加雌鼠子宫重量，增高大鼠子宫指数和雌二醇含量，动物出现动情期的比率增多。具有保肝作用。本品可拮抗D-氨基半乳糖所致的急性肝损伤大鼠谷丙转氨酶和谷草转氨酶值的升高；增加四氯化碳所致慢性肝损害大鼠的总蛋白和白蛋白含量。具有增强免疫作用。本品能提高正常小鼠对血中碳粒的清除速度和抗体形成细胞的量，促进B细胞受抗原刺激后的分裂增殖，增加幼鼠胸腺指数；增强小鼠腹腔巨噬细胞吞噬鸡红细胞的能力。具有抗炎作用。本品能抑制巴豆油所致小鼠耳廓肿胀，抑制角叉菜胶所致的大鼠足肿胀及大鼠棉球肉芽肿的形成，也能抑制羧甲基纤维素所致腹腔渗出液中白细胞总数的增多。1、忌食寒凉、生冷食物。2、服药期间不宜喝茶和吃萝卜，不宜同时服用藜芦、五灵脂、皂荚萝卜，不宜同时服用藜芦、五灵脂、皂荚或其制剂。　　3、感冒时不宜服用本药。　　4、月经过多者不宜服用本药，带下量多气臭者应去医院就诊。　　5、平素月经正常，突然出现月经量少，或月经错后，或阴道不规则出血应去医院就诊。　　6、按照用法用量服用，长期服用应向医师咨询。　　7、服药二周症状无改善，应去医院就诊。　　8、对该品过敏者禁用，过敏体质者慎用。　　9、该品性状发生改变时禁止使用。　　10、请将该品放在儿童不能接触的地方。口服，一次9克，一日2次。尚不明确。9g*10袋\n",
      "1078\n"
     ]
    }
   ],
   "source": [
    "txt_all = ''\n",
    "for data in txt_1:\n",
    "    if data != ' ':\n",
    "        txt_all += data\n",
    "txt_all = txt_all.replace(\"\\t\", \"\")\n",
    "txt_all = txt_all.replace(\"\\n\", \"\")\n",
    "txt_all = txt_all.replace(\" \", \"\")\n",
    "print(txt_all)\n",
    "print(len(txt_all))"
   ]
  },
  {
   "cell_type": "markdown",
   "metadata": {},
   "source": [
    "## 解析单条label数据"
   ]
  },
  {
   "cell_type": "code",
   "execution_count": 31,
   "metadata": {},
   "outputs": [
    {
     "data": {
      "text/plain": [
       "['T1\\tDRUG_DOSAGE 447 450\\t小蜜丸',\n",
       " 'T2\\tDRUG_TASTE 451 453\\t味甜',\n",
       " 'T3\\tDRUG_TASTE 454 456\\t微苦',\n",
       " 'T4\\tDRUG_EFFICACY 1 5\\t补气养血',\n",
       " 'T5\\tSYMPTOM 13 17\\t月经不调',\n",
       " 'T6\\tSYMPTOM 18 22\\t经期腹痛',\n",
       " 'T7\\tPERSON_GROUP 433 435\\t孕妇',\n",
       " 'T8\\tDRUG_INGREDIENT 100 102\\t人参',\n",
       " 'T9\\tDRUG_INGREDIENT 103 105\\t白芍',\n",
       " 'T10\\tDRUG_INGREDIENT 106 109\\t反藜芦',\n",
       " 'T11\\tDRUG_INGREDIENT 112 115\\t含藜芦',\n",
       " 'T12\\tDRUG_INGREDIENT 127 129\\t甘草',\n",
       " 'T13\\tDRUG_INGREDIENT 130 133\\t反甘遂',\n",
       " 'T14\\tDRUG_INGREDIENT 137 139\\t海藻',\n",
       " 'T15\\tDRUG_INGREDIENT 140 142\\t芫花',\n",
       " 'T16\\tDRUG_INGREDIENT 146 148\\t甘遂',\n",
       " 'T17\\tDRUG_INGREDIENT 149 151\\t大戟',\n",
       " 'T18\\tDRUG_INGREDIENT 152 154\\t海藻',\n",
       " 'T19\\tDRUG_INGREDIENT 155 157\\t芫花',\n",
       " 'T20\\tFOOD_GROUP 170 172\\t生冷',\n",
       " 'T21\\tFOOD_GROUP 173 175\\t辛辣',\n",
       " 'T22\\tFOOD_GROUP 176 178\\t荤腥',\n",
       " 'T23\\tFOOD_GROUP 181 185\\t不易消化',\n",
       " 'T24\\tFOOD 216 218\\t萝卜',\n",
       " 'T25\\tDRUG 248 253\\t乌鸡白凤丸',\n",
       " 'T26\\tDRUG_INGREDIENT 253 256\\t五灵脂',\n",
       " 'T27\\tDRUG_INGREDIENT 257 259\\t皂荚',\n",
       " 'T28\\tDRUG_EFFICACY 481 483\\t造血',\n",
       " 'T29\\tDRUG_EFFICACY 484 486\\t止血',\n",
       " 'T30\\tDRUG_EFFICACY 594 596\\t保肝',\n",
       " 'T31\\tDRUG_EFFICACY 666 670\\t增强免疫',\n",
       " 'T32\\tDRUG_INGREDIENT 862 864\\t藜芦',\n",
       " 'T33\\tDRUG_INGREDIENT 865 868\\t五灵脂',\n",
       " 'T34\\tDRUG_INGREDIENT 869 871\\t皂荚',\n",
       " 'T35\\tFOOD 871 873\\t萝卜',\n",
       " 'T36\\tSYMPTOM 956 960\\t月经量少',\n",
       " 'T37\\tSYMPTOM 962 966\\t月经错后',\n",
       " 'T38\\tSYMPTOM 968 975\\t阴道不规则出血',\n",
       " 'T39\\tPERSON_GROUP 1043 1048\\t过敏体质者',\n",
       " 'T40\\tDRUG_EFFICACY 326 330\\t补气养血',\n",
       " 'T41\\tSYMPTOM 338 342\\t心慌气短',\n",
       " 'T42\\tSYMPTOM 343 347\\t疲乏无力',\n",
       " 'T43\\tSYMPTOM 348 352\\t月经不调',\n",
       " 'T44\\tSYMPTOM 353 357\\t腰腿酸软',\n",
       " 'T45\\tSYMPTOM 358 362\\t白带量多',\n",
       " 'T46\\tPERSON_GROUP 362 364\\t儿童',\n",
       " 'T47\\tFOOD_GROUP 364 366\\t寒凉',\n",
       " 'T48\\tFOOD_GROUP 367 369\\t生冷',\n",
       " 'T49\\tDISEASE 413 415\\t感冒']"
      ]
     },
     "execution_count": 31,
     "metadata": {},
     "output_type": "execute_result"
    }
   ],
   "source": [
    "ann_1"
   ]
  },
  {
   "cell_type": "code",
   "execution_count": 44,
   "metadata": {},
   "outputs": [
    {
     "data": {
      "text/plain": [
       "['T1', 'DRUG_DOSAGE 447 450', '小蜜丸']"
      ]
     },
     "execution_count": 44,
     "metadata": {},
     "output_type": "execute_result"
    }
   ],
   "source": [
    "ann_1_1 = ann_1[0].split('\\t')\n",
    "ann_1_1"
   ]
  },
  {
   "cell_type": "code",
   "execution_count": 45,
   "metadata": {},
   "outputs": [
    {
     "data": {
      "text/plain": [
       "['DRUG_DOSAGE', '447', '450']"
      ]
     },
     "execution_count": 45,
     "metadata": {},
     "output_type": "execute_result"
    }
   ],
   "source": [
    "index_list = ann_1_1[1].split(' ')\n",
    "index_list"
   ]
  },
  {
   "cell_type": "code",
   "execution_count": 47,
   "metadata": {},
   "outputs": [
    {
     "data": {
      "text/plain": [
       "428"
      ]
     },
     "execution_count": 47,
     "metadata": {},
     "output_type": "execute_result"
    }
   ],
   "source": [
    "txt_all.rfind(ann_1_1[2])"
   ]
  },
  {
   "cell_type": "code",
   "execution_count": 49,
   "metadata": {},
   "outputs": [
    {
     "data": {
      "text/plain": [
       "'小蜜丸'"
      ]
     },
     "execution_count": 49,
     "metadata": {},
     "output_type": "execute_result"
    }
   ],
   "source": [
    "txt_all[428:431]"
   ]
  },
  {
   "cell_type": "markdown",
   "metadata": {},
   "source": [
    "# "
   ]
  },
  {
   "cell_type": "code",
   "execution_count": null,
   "metadata": {},
   "outputs": [],
   "source": []
  },
  {
   "cell_type": "code",
   "execution_count": null,
   "metadata": {},
   "outputs": [],
   "source": []
  }
 ],
 "metadata": {
  "kernelspec": {
   "display_name": "Python 3",
   "language": "python",
   "name": "python3"
  },
  "language_info": {
   "codemirror_mode": {
    "name": "ipython",
    "version": 3
   },
   "file_extension": ".py",
   "mimetype": "text/x-python",
   "name": "python",
   "nbconvert_exporter": "python",
   "pygments_lexer": "ipython3",
   "version": "3.7.4"
  }
 },
 "nbformat": 4,
 "nbformat_minor": 4
}
